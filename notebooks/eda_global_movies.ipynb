{
 "cells": [
  {
   "cell_type": "markdown",
   "metadata": {},
   "source": [
    "# Exploratory Data Analysis on Global Movies (1950-2020)"
   ]
  },
  {
   "cell_type": "markdown",
   "metadata": {},
   "source": [
    "### 1. Data Loading and Preprocessing"
   ]
  },
  {
   "cell_type": "code",
   "execution_count": 97,
   "metadata": {},
   "outputs": [],
   "source": [
    "import pandas as pd\n",
    "import sys\n",
    "import os\n",
    "import matplotlib.pyplot as plt\n",
    "import seaborn as sns"
   ]
  },
  {
   "cell_type": "code",
   "execution_count": null,
   "metadata": {},
   "outputs": [],
   "source": [
    "# Add the src directory to the Python path\n",
    "sys.path.append('../src')\n",
    "\n",
    "# Import the data scraper function\n",
    "from data_scraper import scrape_imdb_movies_with_selenium\n",
    "\n",
    "# Call the data scraper function\n",
    "scrape_imdb_movies_with_selenium()"
   ]
  },
  {
   "cell_type": "code",
   "execution_count": 71,
   "metadata": {},
   "outputs": [],
   "source": [
    "# Define the file path\n",
    "file_path = \"../data/imdb_top_movies.csv\"\n",
    "# Read the CSV file into a DataFrame\n",
    "movies_df = pd.read_csv(file_path)  "
   ]
  },
  {
   "cell_type": "code",
   "execution_count": 72,
   "metadata": {},
   "outputs": [
    {
     "name": "stdout",
     "output_type": "stream",
     "text": [
      "                         Title  Year      Rating  \\\n",
      "0  1. The Shawshank Redemption  1994    9.3 (3M)   \n",
      "1             2. The Godfather  1972  9.2 (2.1M)   \n",
      "2           3. The Dark Knight  2008    9.0 (3M)   \n",
      "3     4. The Godfather Part II  1974  9.0 (1.4M)   \n",
      "4              5. 12 Angry Men  1957  9.0 (917K)   \n",
      "\n",
      "                                               Genre  \\\n",
      "0            Epic, Period Drama, Prison Drama, Drama   \n",
      "1              Epic, Gangster, Tragedy, Crime, Drama   \n",
      "2  Action Epic, Epic, Superhero, Tragedy, Action,...   \n",
      "3              Epic, Gangster, Tragedy, Crime, Drama   \n",
      "4     Legal Drama, Psychological Drama, Crime, Drama   \n",
      "\n",
      "                                         Director(s)  \\\n",
      "0  Jack Lawrence, Frank Darabont, Bob Gunton, Han...   \n",
      "1  Marlon Brando, Kay Adams, Al Pacino, Francis F...   \n",
      "2  Aaron Eckhart, Christopher Nolan, Jack Nichols...   \n",
      "3  Al Pacino, Robert Duvall, Robert De Niro, Fran...   \n",
      "4  Martin Balsam, E.G. Marshall, Juror #10, Lee J...   \n",
      "\n",
      "              Box Office Revenue                                  Lead Actors  \n",
      "0     Gross worldwide$29,332,133      Bob Gunton, Tim Robbins, Morgan Freeman  \n",
      "1    Gross worldwide$250,342,198         James Caan, Marlon Brando, Al Pacino  \n",
      "2  Gross worldwide$1,009,057,329  Aaron Eckhart, Heath Ledger, Christian Bale  \n",
      "3     Gross worldwide$47,964,222     Robert Duvall, Robert De Niro, Al Pacino  \n",
      "4          Gross worldwide$2,945      Lee J. Cobb, Martin Balsam, Henry Fonda  \n"
     ]
    }
   ],
   "source": [
    "# Display the first few rows of the DataFrame\n",
    "print(movies_df.head())"
   ]
  },
  {
   "cell_type": "code",
   "execution_count": 73,
   "metadata": {},
   "outputs": [
    {
     "data": {
      "text/plain": [
       "(250, 7)"
      ]
     },
     "execution_count": 73,
     "metadata": {},
     "output_type": "execute_result"
    }
   ],
   "source": [
    "# Check the shape of the dataset\n",
    "movies_df.shape"
   ]
  },
  {
   "cell_type": "code",
   "execution_count": 74,
   "metadata": {},
   "outputs": [
    {
     "data": {
      "text/plain": [
       "Index(['Title', 'Year', 'Rating', 'Genre', 'Director(s)', 'Box Office Revenue',\n",
       "       'Lead Actors'],\n",
       "      dtype='object')"
      ]
     },
     "execution_count": 74,
     "metadata": {},
     "output_type": "execute_result"
    }
   ],
   "source": [
    "# View column names\n",
    "movies_df.columns"
   ]
  },
  {
   "cell_type": "code",
   "execution_count": 75,
   "metadata": {},
   "outputs": [
    {
     "data": {
      "text/plain": [
       "Title                 0\n",
       "Year                  0\n",
       "Rating                0\n",
       "Genre                 0\n",
       "Director(s)           0\n",
       "Box Office Revenue    0\n",
       "Lead Actors           0\n",
       "dtype: int64"
      ]
     },
     "execution_count": 75,
     "metadata": {},
     "output_type": "execute_result"
    }
   ],
   "source": [
    "# Check for missing values\n",
    "movies_df.isnull().sum()"
   ]
  },
  {
   "cell_type": "code",
   "execution_count": 76,
   "metadata": {},
   "outputs": [
    {
     "data": {
      "text/html": [
       "<div>\n",
       "<style scoped>\n",
       "    .dataframe tbody tr th:only-of-type {\n",
       "        vertical-align: middle;\n",
       "    }\n",
       "\n",
       "    .dataframe tbody tr th {\n",
       "        vertical-align: top;\n",
       "    }\n",
       "\n",
       "    .dataframe thead th {\n",
       "        text-align: right;\n",
       "    }\n",
       "</style>\n",
       "<table border=\"1\" class=\"dataframe\">\n",
       "  <thead>\n",
       "    <tr style=\"text-align: right;\">\n",
       "      <th></th>\n",
       "      <th>Year</th>\n",
       "    </tr>\n",
       "  </thead>\n",
       "  <tbody>\n",
       "    <tr>\n",
       "      <th>count</th>\n",
       "      <td>250.000000</td>\n",
       "    </tr>\n",
       "    <tr>\n",
       "      <th>mean</th>\n",
       "      <td>1988.432000</td>\n",
       "    </tr>\n",
       "    <tr>\n",
       "      <th>std</th>\n",
       "      <td>25.601153</td>\n",
       "    </tr>\n",
       "    <tr>\n",
       "      <th>min</th>\n",
       "      <td>1921.000000</td>\n",
       "    </tr>\n",
       "    <tr>\n",
       "      <th>25%</th>\n",
       "      <td>1972.250000</td>\n",
       "    </tr>\n",
       "    <tr>\n",
       "      <th>50%</th>\n",
       "      <td>1995.000000</td>\n",
       "    </tr>\n",
       "    <tr>\n",
       "      <th>75%</th>\n",
       "      <td>2009.000000</td>\n",
       "    </tr>\n",
       "    <tr>\n",
       "      <th>max</th>\n",
       "      <td>2024.000000</td>\n",
       "    </tr>\n",
       "  </tbody>\n",
       "</table>\n",
       "</div>"
      ],
      "text/plain": [
       "              Year\n",
       "count   250.000000\n",
       "mean   1988.432000\n",
       "std      25.601153\n",
       "min    1921.000000\n",
       "25%    1972.250000\n",
       "50%    1995.000000\n",
       "75%    2009.000000\n",
       "max    2024.000000"
      ]
     },
     "execution_count": 76,
     "metadata": {},
     "output_type": "execute_result"
    }
   ],
   "source": [
    "# Summary statistics\n",
    "movies_df.describe()"
   ]
  },
  {
   "cell_type": "code",
   "execution_count": 77,
   "metadata": {},
   "outputs": [
    {
     "data": {
      "text/plain": [
       "np.int64(0)"
      ]
     },
     "execution_count": 77,
     "metadata": {},
     "output_type": "execute_result"
    }
   ],
   "source": [
    "# Check for duplicates\n",
    "movies_df.duplicated().sum()"
   ]
  },
  {
   "cell_type": "code",
   "execution_count": 78,
   "metadata": {},
   "outputs": [
    {
     "name": "stdout",
     "output_type": "stream",
     "text": [
      "                         title  year      rating  \\\n",
      "0  1. The Shawshank Redemption  1994    9.3 (3M)   \n",
      "1             2. The Godfather  1972  9.2 (2.1M)   \n",
      "2           3. The Dark Knight  2008    9.0 (3M)   \n",
      "3     4. The Godfather Part II  1974  9.0 (1.4M)   \n",
      "4              5. 12 Angry Men  1957  9.0 (917K)   \n",
      "\n",
      "                                               genre  \\\n",
      "0            Epic, Period Drama, Prison Drama, Drama   \n",
      "1              Epic, Gangster, Tragedy, Crime, Drama   \n",
      "2  Action Epic, Epic, Superhero, Tragedy, Action,...   \n",
      "3              Epic, Gangster, Tragedy, Crime, Drama   \n",
      "4     Legal Drama, Psychological Drama, Crime, Drama   \n",
      "\n",
      "                                           directors  \\\n",
      "0  Jack Lawrence, Frank Darabont, Bob Gunton, Han...   \n",
      "1  Marlon Brando, Kay Adams, Al Pacino, Francis F...   \n",
      "2  Aaron Eckhart, Christopher Nolan, Jack Nichols...   \n",
      "3  Al Pacino, Robert Duvall, Robert De Niro, Fran...   \n",
      "4  Martin Balsam, E.G. Marshall, Juror #10, Lee J...   \n",
      "\n",
      "                         revenue                                  lead_actors  \n",
      "0     Gross worldwide$29,332,133      Bob Gunton, Tim Robbins, Morgan Freeman  \n",
      "1    Gross worldwide$250,342,198         James Caan, Marlon Brando, Al Pacino  \n",
      "2  Gross worldwide$1,009,057,329  Aaron Eckhart, Heath Ledger, Christian Bale  \n",
      "3     Gross worldwide$47,964,222     Robert Duvall, Robert De Niro, Al Pacino  \n",
      "4          Gross worldwide$2,945      Lee J. Cobb, Martin Balsam, Henry Fonda  \n"
     ]
    }
   ],
   "source": [
    "# Rename the columns\n",
    "movies_df.columns = ['title', 'year', 'rating', 'genre', \"directors\", \"revenue\", \"lead_actors\"]\n",
    "print(movies_df.head())"
   ]
  },
  {
   "cell_type": "code",
   "execution_count": 79,
   "metadata": {},
   "outputs": [
    {
     "name": "stdout",
     "output_type": "stream",
     "text": [
      "                         title  year rating  \\\n",
      "0  1. The Shawshank Redemption  1994   9.3    \n",
      "1             2. The Godfather  1972   9.2    \n",
      "2           3. The Dark Knight  2008   9.0    \n",
      "3     4. The Godfather Part II  1974   9.0    \n",
      "4              5. 12 Angry Men  1957   9.0    \n",
      "\n",
      "                                               genre  \\\n",
      "0            Epic, Period Drama, Prison Drama, Drama   \n",
      "1              Epic, Gangster, Tragedy, Crime, Drama   \n",
      "2  Action Epic, Epic, Superhero, Tragedy, Action,...   \n",
      "3              Epic, Gangster, Tragedy, Crime, Drama   \n",
      "4     Legal Drama, Psychological Drama, Crime, Drama   \n",
      "\n",
      "                                           directors  \\\n",
      "0  Jack Lawrence, Frank Darabont, Bob Gunton, Han...   \n",
      "1  Marlon Brando, Kay Adams, Al Pacino, Francis F...   \n",
      "2  Aaron Eckhart, Christopher Nolan, Jack Nichols...   \n",
      "3  Al Pacino, Robert Duvall, Robert De Niro, Fran...   \n",
      "4  Martin Balsam, E.G. Marshall, Juror #10, Lee J...   \n",
      "\n",
      "                         revenue                                  lead_actors  \\\n",
      "0     Gross worldwide$29,332,133      Bob Gunton, Tim Robbins, Morgan Freeman   \n",
      "1    Gross worldwide$250,342,198         James Caan, Marlon Brando, Al Pacino   \n",
      "2  Gross worldwide$1,009,057,329  Aaron Eckhart, Heath Ledger, Christian Bale   \n",
      "3     Gross worldwide$47,964,222     Robert Duvall, Robert De Niro, Al Pacino   \n",
      "4          Gross worldwide$2,945      Lee J. Cobb, Martin Balsam, Henry Fonda   \n",
      "\n",
      "   votes  \n",
      "0    3M)  \n",
      "1  2.1M)  \n",
      "2    3M)  \n",
      "3  1.4M)  \n",
      "4  917K)  \n"
     ]
    }
   ],
   "source": [
    "#Divide the rating column into two columns with rating and votes\n",
    "movies_df[['rating', 'votes']] = movies_df['rating'].str.split(\"(\", expand=True)\n",
    "print(movies_df.head())"
   ]
  },
  {
   "cell_type": "code",
   "execution_count": 80,
   "metadata": {},
   "outputs": [
    {
     "name": "stdout",
     "output_type": "stream",
     "text": [
      "                         title  year rating  \\\n",
      "0  1. The Shawshank Redemption  1994   9.3    \n",
      "1             2. The Godfather  1972   9.2    \n",
      "2           3. The Dark Knight  2008   9.0    \n",
      "3     4. The Godfather Part II  1974   9.0    \n",
      "4              5. 12 Angry Men  1957   9.0    \n",
      "\n",
      "                                               genre  \\\n",
      "0            Epic, Period Drama, Prison Drama, Drama   \n",
      "1              Epic, Gangster, Tragedy, Crime, Drama   \n",
      "2  Action Epic, Epic, Superhero, Tragedy, Action,...   \n",
      "3              Epic, Gangster, Tragedy, Crime, Drama   \n",
      "4     Legal Drama, Psychological Drama, Crime, Drama   \n",
      "\n",
      "                                           directors  \\\n",
      "0  Jack Lawrence, Frank Darabont, Bob Gunton, Han...   \n",
      "1  Marlon Brando, Kay Adams, Al Pacino, Francis F...   \n",
      "2  Aaron Eckhart, Christopher Nolan, Jack Nichols...   \n",
      "3  Al Pacino, Robert Duvall, Robert De Niro, Fran...   \n",
      "4  Martin Balsam, E.G. Marshall, Juror #10, Lee J...   \n",
      "\n",
      "                         revenue                                  lead_actors  \\\n",
      "0     Gross worldwide$29,332,133      Bob Gunton, Tim Robbins, Morgan Freeman   \n",
      "1    Gross worldwide$250,342,198         James Caan, Marlon Brando, Al Pacino   \n",
      "2  Gross worldwide$1,009,057,329  Aaron Eckhart, Heath Ledger, Christian Bale   \n",
      "3     Gross worldwide$47,964,222     Robert Duvall, Robert De Niro, Al Pacino   \n",
      "4          Gross worldwide$2,945      Lee J. Cobb, Martin Balsam, Henry Fonda   \n",
      "\n",
      "  votes  \n",
      "0    3M  \n",
      "1  2.1M  \n",
      "2    3M  \n",
      "3  1.4M  \n",
      "4  917K  \n"
     ]
    }
   ],
   "source": [
    "# Remove the parentheses from the votes column\n",
    "movies_df['votes'] = movies_df['votes'].str.replace(\")\", \"\")\n",
    "print(movies_df.head())"
   ]
  },
  {
   "cell_type": "code",
   "execution_count": 81,
   "metadata": {},
   "outputs": [
    {
     "data": {
      "text/plain": [
       "title          object\n",
       "year            int64\n",
       "rating         object\n",
       "genre          object\n",
       "directors      object\n",
       "revenue        object\n",
       "lead_actors    object\n",
       "votes          object\n",
       "dtype: object"
      ]
     },
     "execution_count": 81,
     "metadata": {},
     "output_type": "execute_result"
    }
   ],
   "source": [
    "movies_df.dtypes"
   ]
  },
  {
   "cell_type": "code",
   "execution_count": 82,
   "metadata": {},
   "outputs": [
    {
     "data": {
      "text/plain": [
       "title           object\n",
       "year             int64\n",
       "rating         float64\n",
       "genre           object\n",
       "directors       object\n",
       "revenue         object\n",
       "lead_actors     object\n",
       "votes           object\n",
       "dtype: object"
      ]
     },
     "execution_count": 82,
     "metadata": {},
     "output_type": "execute_result"
    }
   ],
   "source": [
    "# Convert the rating column to float\n",
    "movies_df['rating'] = movies_df['rating'].astype(float)\n",
    "movies_df.dtypes"
   ]
  },
  {
   "cell_type": "code",
   "execution_count": 54,
   "metadata": {},
   "outputs": [],
   "source": [
    "# Replace the \"Unknown\" values in the revenue column with 0\n",
    "movies_df['revenue'] = movies_df['revenue'].replace('Unknown', 0)"
   ]
  },
  {
   "cell_type": "code",
   "execution_count": 83,
   "metadata": {},
   "outputs": [
    {
     "name": "stdout",
     "output_type": "stream",
     "text": [
      "0       Gross worldwide$29,332,133\n",
      "1      Gross worldwide$250,342,198\n",
      "2    Gross worldwide$1,009,057,329\n",
      "3       Gross worldwide$47,964,222\n",
      "4            Gross worldwide$2,945\n",
      "Name: revenue, dtype: object\n"
     ]
    }
   ],
   "source": [
    "print(movies_df['revenue'].head())"
   ]
  },
  {
   "cell_type": "code",
   "execution_count": 84,
   "metadata": {},
   "outputs": [
    {
     "name": "stdout",
     "output_type": "stream",
     "text": [
      "        revenue\n",
      "0      29332133\n",
      "1     250342198\n",
      "2    1009057329\n",
      "3      47964222\n",
      "4          2945\n",
      "..          ...\n",
      "245    30819442\n",
      "246   221802186\n",
      "247    20908467\n",
      "248      113328\n",
      "249           0\n",
      "\n",
      "[250 rows x 1 columns]\n"
     ]
    },
    {
     "name": "stderr",
     "output_type": "stream",
     "text": [
      "<>:5: SyntaxWarning: invalid escape sequence '\\$'\n",
      "<>:5: SyntaxWarning: invalid escape sequence '\\$'\n",
      "/var/folders/0p/29y5gpjs09jd6rt_9jltqj7w0000gn/T/ipykernel_68018/3456861789.py:5: SyntaxWarning: invalid escape sequence '\\$'\n",
      "  .str.replace('[\\$,]', '', regex=True)             # Remove dollar signs and commas\n"
     ]
    }
   ],
   "source": [
    "# Remove non-numeric characters and keep only the numeric figure\n",
    "movies_df['revenue'] = (\n",
    "    movies_df['revenue']\n",
    "    .str.replace('Gross worldwide', '', regex=False)  # Remove the 'Gross worldwide' text\n",
    "    .str.replace('[\\$,]', '', regex=True)             # Remove dollar signs and commas\n",
    "    .replace('Unknown', '0')                          # Replace 'Unknown' with '0'\n",
    ")\n",
    "\n",
    "# Convert to numeric, setting invalid values to NaN\n",
    "movies_df['revenue'] = pd.to_numeric(movies_df['revenue'], errors='coerce')\n",
    "\n",
    "# Display the cleaned column\n",
    "print(movies_df[['revenue']])"
   ]
  },
  {
   "cell_type": "code",
   "execution_count": 88,
   "metadata": {},
   "outputs": [
    {
     "data": {
      "text/html": [
       "<div>\n",
       "<style scoped>\n",
       "    .dataframe tbody tr th:only-of-type {\n",
       "        vertical-align: middle;\n",
       "    }\n",
       "\n",
       "    .dataframe tbody tr th {\n",
       "        vertical-align: top;\n",
       "    }\n",
       "\n",
       "    .dataframe thead th {\n",
       "        text-align: right;\n",
       "    }\n",
       "</style>\n",
       "<table border=\"1\" class=\"dataframe\">\n",
       "  <thead>\n",
       "    <tr style=\"text-align: right;\">\n",
       "      <th></th>\n",
       "      <th>title</th>\n",
       "      <th>year</th>\n",
       "      <th>rating</th>\n",
       "      <th>genre</th>\n",
       "      <th>directors</th>\n",
       "      <th>revenue</th>\n",
       "      <th>lead_actors</th>\n",
       "      <th>votes</th>\n",
       "    </tr>\n",
       "  </thead>\n",
       "  <tbody>\n",
       "    <tr>\n",
       "      <th>0</th>\n",
       "      <td>1. The Shawshank Redemption</td>\n",
       "      <td>1994</td>\n",
       "      <td>9.3</td>\n",
       "      <td>Epic, Period Drama, Prison Drama, Drama</td>\n",
       "      <td>Jack Lawrence, Frank Darabont, Bob Gunton, Han...</td>\n",
       "      <td>29332133</td>\n",
       "      <td>Bob Gunton, Tim Robbins, Morgan Freeman</td>\n",
       "      <td>3000000</td>\n",
       "    </tr>\n",
       "    <tr>\n",
       "      <th>1</th>\n",
       "      <td>2. The Godfather</td>\n",
       "      <td>1972</td>\n",
       "      <td>9.2</td>\n",
       "      <td>Epic, Gangster, Tragedy, Crime, Drama</td>\n",
       "      <td>Marlon Brando, Kay Adams, Al Pacino, Francis F...</td>\n",
       "      <td>250342198</td>\n",
       "      <td>James Caan, Marlon Brando, Al Pacino</td>\n",
       "      <td>2100000</td>\n",
       "    </tr>\n",
       "    <tr>\n",
       "      <th>2</th>\n",
       "      <td>3. The Dark Knight</td>\n",
       "      <td>2008</td>\n",
       "      <td>9.0</td>\n",
       "      <td>Action Epic, Epic, Superhero, Tragedy, Action,...</td>\n",
       "      <td>Aaron Eckhart, Christopher Nolan, Jack Nichols...</td>\n",
       "      <td>1009057329</td>\n",
       "      <td>Aaron Eckhart, Heath Ledger, Christian Bale</td>\n",
       "      <td>3000000</td>\n",
       "    </tr>\n",
       "    <tr>\n",
       "      <th>3</th>\n",
       "      <td>4. The Godfather Part II</td>\n",
       "      <td>1974</td>\n",
       "      <td>9.0</td>\n",
       "      <td>Epic, Gangster, Tragedy, Crime, Drama</td>\n",
       "      <td>Al Pacino, Robert Duvall, Robert De Niro, Fran...</td>\n",
       "      <td>47964222</td>\n",
       "      <td>Robert Duvall, Robert De Niro, Al Pacino</td>\n",
       "      <td>1400000</td>\n",
       "    </tr>\n",
       "    <tr>\n",
       "      <th>4</th>\n",
       "      <td>5. 12 Angry Men</td>\n",
       "      <td>1957</td>\n",
       "      <td>9.0</td>\n",
       "      <td>Legal Drama, Psychological Drama, Crime, Drama</td>\n",
       "      <td>Martin Balsam, E.G. Marshall, Juror #10, Lee J...</td>\n",
       "      <td>2945</td>\n",
       "      <td>Lee J. Cobb, Martin Balsam, Henry Fonda</td>\n",
       "      <td>917000</td>\n",
       "    </tr>\n",
       "    <tr>\n",
       "      <th>5</th>\n",
       "      <td>6. The Lord of the Rings: The Return of the King</td>\n",
       "      <td>2003</td>\n",
       "      <td>9.0</td>\n",
       "      <td>Action Epic, Adventure Epic, Epic, Fantasy Epi...</td>\n",
       "      <td>John Rhys-Davies, Fran Walsh, J.R.R. Tolkien, ...</td>\n",
       "      <td>1138267561</td>\n",
       "      <td>Viggo Mortensen, Ian McKellen, Elijah Wood</td>\n",
       "      <td>2100000</td>\n",
       "    </tr>\n",
       "    <tr>\n",
       "      <th>6</th>\n",
       "      <td>7. Schindler's List</td>\n",
       "      <td>1993</td>\n",
       "      <td>9.0</td>\n",
       "      <td>Docudrama, Epic, Historical Epic, Period Drama...</td>\n",
       "      <td>Steven Spielberg, Ben Kingsley, Mimi Thoma, St...</td>\n",
       "      <td>322161245</td>\n",
       "      <td>Liam Neeson, Ralph Fiennes, Ben Kingsley</td>\n",
       "      <td>1500000</td>\n",
       "    </tr>\n",
       "    <tr>\n",
       "      <th>7</th>\n",
       "      <td>8. Pulp Fiction</td>\n",
       "      <td>1994</td>\n",
       "      <td>8.9</td>\n",
       "      <td>Dark Comedy, Drug Crime, Gangster, Crime, Drama</td>\n",
       "      <td>Vincent, Quentin Tarantino, Samuel L. Jackson,...</td>\n",
       "      <td>213928762</td>\n",
       "      <td>Uma Thurman, Samuel L. Jackson, John Travolta</td>\n",
       "      <td>2300000</td>\n",
       "    </tr>\n",
       "    <tr>\n",
       "      <th>8</th>\n",
       "      <td>9. The Lord of the Rings: The Fellowship of th...</td>\n",
       "      <td>2001</td>\n",
       "      <td>8.9</td>\n",
       "      <td>Action Epic, Adventure Epic, Epic, Fantasy Epi...</td>\n",
       "      <td>Janet Roddick, Fran Walsh, Orlando Bloom, Gand...</td>\n",
       "      <td>888171906</td>\n",
       "      <td>Orlando Bloom, Ian McKellen, Elijah Wood</td>\n",
       "      <td>2100000</td>\n",
       "    </tr>\n",
       "    <tr>\n",
       "      <th>9</th>\n",
       "      <td>10. The Good, the Bad and the Ugly</td>\n",
       "      <td>1966</td>\n",
       "      <td>8.8</td>\n",
       "      <td>Adventure Epic, Dark Comedy, Desert Adventure,...</td>\n",
       "      <td>Blondie, Lee Van Cleef, Clint Eastwood, Lucian...</td>\n",
       "      <td>25264999</td>\n",
       "      <td>Eli Wallach, Lee Van Cleef, Clint Eastwood</td>\n",
       "      <td>847000</td>\n",
       "    </tr>\n",
       "  </tbody>\n",
       "</table>\n",
       "</div>"
      ],
      "text/plain": [
       "                                               title  year  rating  \\\n",
       "0                        1. The Shawshank Redemption  1994     9.3   \n",
       "1                                   2. The Godfather  1972     9.2   \n",
       "2                                 3. The Dark Knight  2008     9.0   \n",
       "3                           4. The Godfather Part II  1974     9.0   \n",
       "4                                    5. 12 Angry Men  1957     9.0   \n",
       "5   6. The Lord of the Rings: The Return of the King  2003     9.0   \n",
       "6                                7. Schindler's List  1993     9.0   \n",
       "7                                    8. Pulp Fiction  1994     8.9   \n",
       "8  9. The Lord of the Rings: The Fellowship of th...  2001     8.9   \n",
       "9                 10. The Good, the Bad and the Ugly  1966     8.8   \n",
       "\n",
       "                                               genre  \\\n",
       "0            Epic, Period Drama, Prison Drama, Drama   \n",
       "1              Epic, Gangster, Tragedy, Crime, Drama   \n",
       "2  Action Epic, Epic, Superhero, Tragedy, Action,...   \n",
       "3              Epic, Gangster, Tragedy, Crime, Drama   \n",
       "4     Legal Drama, Psychological Drama, Crime, Drama   \n",
       "5  Action Epic, Adventure Epic, Epic, Fantasy Epi...   \n",
       "6  Docudrama, Epic, Historical Epic, Period Drama...   \n",
       "7    Dark Comedy, Drug Crime, Gangster, Crime, Drama   \n",
       "8  Action Epic, Adventure Epic, Epic, Fantasy Epi...   \n",
       "9  Adventure Epic, Dark Comedy, Desert Adventure,...   \n",
       "\n",
       "                                           directors     revenue  \\\n",
       "0  Jack Lawrence, Frank Darabont, Bob Gunton, Han...    29332133   \n",
       "1  Marlon Brando, Kay Adams, Al Pacino, Francis F...   250342198   \n",
       "2  Aaron Eckhart, Christopher Nolan, Jack Nichols...  1009057329   \n",
       "3  Al Pacino, Robert Duvall, Robert De Niro, Fran...    47964222   \n",
       "4  Martin Balsam, E.G. Marshall, Juror #10, Lee J...        2945   \n",
       "5  John Rhys-Davies, Fran Walsh, J.R.R. Tolkien, ...  1138267561   \n",
       "6  Steven Spielberg, Ben Kingsley, Mimi Thoma, St...   322161245   \n",
       "7  Vincent, Quentin Tarantino, Samuel L. Jackson,...   213928762   \n",
       "8  Janet Roddick, Fran Walsh, Orlando Bloom, Gand...   888171906   \n",
       "9  Blondie, Lee Van Cleef, Clint Eastwood, Lucian...    25264999   \n",
       "\n",
       "                                     lead_actors    votes  \n",
       "0        Bob Gunton, Tim Robbins, Morgan Freeman  3000000  \n",
       "1           James Caan, Marlon Brando, Al Pacino  2100000  \n",
       "2    Aaron Eckhart, Heath Ledger, Christian Bale  3000000  \n",
       "3       Robert Duvall, Robert De Niro, Al Pacino  1400000  \n",
       "4        Lee J. Cobb, Martin Balsam, Henry Fonda   917000  \n",
       "5     Viggo Mortensen, Ian McKellen, Elijah Wood  2100000  \n",
       "6       Liam Neeson, Ralph Fiennes, Ben Kingsley  1500000  \n",
       "7  Uma Thurman, Samuel L. Jackson, John Travolta  2300000  \n",
       "8       Orlando Bloom, Ian McKellen, Elijah Wood  2100000  \n",
       "9     Eli Wallach, Lee Van Cleef, Clint Eastwood   847000  "
      ]
     },
     "execution_count": 88,
     "metadata": {},
     "output_type": "execute_result"
    }
   ],
   "source": [
    "movies_df.head(10)"
   ]
  },
  {
   "cell_type": "code",
   "execution_count": 86,
   "metadata": {},
   "outputs": [
    {
     "data": {
      "text/plain": [
       "title           object\n",
       "year             int64\n",
       "rating         float64\n",
       "genre           object\n",
       "directors       object\n",
       "revenue          int64\n",
       "lead_actors     object\n",
       "votes           object\n",
       "dtype: object"
      ]
     },
     "execution_count": 86,
     "metadata": {},
     "output_type": "execute_result"
    }
   ],
   "source": [
    "movies_df.dtypes"
   ]
  },
  {
   "cell_type": "code",
   "execution_count": 87,
   "metadata": {},
   "outputs": [
    {
     "name": "stdout",
     "output_type": "stream",
     "text": [
      "     votes\n",
      "0  3000000\n",
      "1  2100000\n",
      "2  3000000\n",
      "3  1400000\n",
      "4   917000\n"
     ]
    }
   ],
   "source": [
    "# Clean the votes column\n",
    "movies_df['votes'] = (\n",
    "    movies_df['votes']\n",
    "    .str.replace('M', '*1e6')  # Replace 'M' with '*1e6'\n",
    "    .str.replace('K', '*1e3')  # Replace 'K' with '*1e3'\n",
    "    .map(pd.eval)             # Evaluate the string as a numeric expression\n",
    "    .astype(int)              # Convert to integer\n",
    ")\n",
    "\n",
    "# Display the cleaned column\n",
    "print(movies_df[['votes']].head())"
   ]
  },
  {
   "cell_type": "code",
   "execution_count": 89,
   "metadata": {},
   "outputs": [
    {
     "data": {
      "text/html": [
       "<div>\n",
       "<style scoped>\n",
       "    .dataframe tbody tr th:only-of-type {\n",
       "        vertical-align: middle;\n",
       "    }\n",
       "\n",
       "    .dataframe tbody tr th {\n",
       "        vertical-align: top;\n",
       "    }\n",
       "\n",
       "    .dataframe thead th {\n",
       "        text-align: right;\n",
       "    }\n",
       "</style>\n",
       "<table border=\"1\" class=\"dataframe\">\n",
       "  <thead>\n",
       "    <tr style=\"text-align: right;\">\n",
       "      <th></th>\n",
       "      <th>title</th>\n",
       "      <th>year</th>\n",
       "      <th>rating</th>\n",
       "      <th>genre</th>\n",
       "      <th>directors</th>\n",
       "      <th>revenue</th>\n",
       "      <th>lead_actors</th>\n",
       "      <th>votes</th>\n",
       "    </tr>\n",
       "  </thead>\n",
       "  <tbody>\n",
       "    <tr>\n",
       "      <th>0</th>\n",
       "      <td>1. The Shawshank Redemption</td>\n",
       "      <td>1994</td>\n",
       "      <td>9.3</td>\n",
       "      <td>Epic, Period Drama, Prison Drama, Drama</td>\n",
       "      <td>Jack Lawrence, Frank Darabont, Bob Gunton, Han...</td>\n",
       "      <td>29332133</td>\n",
       "      <td>Bob Gunton, Tim Robbins, Morgan Freeman</td>\n",
       "      <td>3000000</td>\n",
       "    </tr>\n",
       "    <tr>\n",
       "      <th>1</th>\n",
       "      <td>2. The Godfather</td>\n",
       "      <td>1972</td>\n",
       "      <td>9.2</td>\n",
       "      <td>Epic, Gangster, Tragedy, Crime, Drama</td>\n",
       "      <td>Marlon Brando, Kay Adams, Al Pacino, Francis F...</td>\n",
       "      <td>250342198</td>\n",
       "      <td>James Caan, Marlon Brando, Al Pacino</td>\n",
       "      <td>2100000</td>\n",
       "    </tr>\n",
       "    <tr>\n",
       "      <th>2</th>\n",
       "      <td>3. The Dark Knight</td>\n",
       "      <td>2008</td>\n",
       "      <td>9.0</td>\n",
       "      <td>Action Epic, Epic, Superhero, Tragedy, Action,...</td>\n",
       "      <td>Aaron Eckhart, Christopher Nolan, Jack Nichols...</td>\n",
       "      <td>1009057329</td>\n",
       "      <td>Aaron Eckhart, Heath Ledger, Christian Bale</td>\n",
       "      <td>3000000</td>\n",
       "    </tr>\n",
       "    <tr>\n",
       "      <th>3</th>\n",
       "      <td>4. The Godfather Part II</td>\n",
       "      <td>1974</td>\n",
       "      <td>9.0</td>\n",
       "      <td>Epic, Gangster, Tragedy, Crime, Drama</td>\n",
       "      <td>Al Pacino, Robert Duvall, Robert De Niro, Fran...</td>\n",
       "      <td>47964222</td>\n",
       "      <td>Robert Duvall, Robert De Niro, Al Pacino</td>\n",
       "      <td>1400000</td>\n",
       "    </tr>\n",
       "    <tr>\n",
       "      <th>4</th>\n",
       "      <td>5. 12 Angry Men</td>\n",
       "      <td>1957</td>\n",
       "      <td>9.0</td>\n",
       "      <td>Legal Drama, Psychological Drama, Crime, Drama</td>\n",
       "      <td>Martin Balsam, E.G. Marshall, Juror #10, Lee J...</td>\n",
       "      <td>2945</td>\n",
       "      <td>Lee J. Cobb, Martin Balsam, Henry Fonda</td>\n",
       "      <td>917000</td>\n",
       "    </tr>\n",
       "    <tr>\n",
       "      <th>5</th>\n",
       "      <td>6. The Lord of the Rings: The Return of the King</td>\n",
       "      <td>2003</td>\n",
       "      <td>9.0</td>\n",
       "      <td>Action Epic, Adventure Epic, Epic, Fantasy Epi...</td>\n",
       "      <td>John Rhys-Davies, Fran Walsh, J.R.R. Tolkien, ...</td>\n",
       "      <td>1138267561</td>\n",
       "      <td>Viggo Mortensen, Ian McKellen, Elijah Wood</td>\n",
       "      <td>2100000</td>\n",
       "    </tr>\n",
       "    <tr>\n",
       "      <th>6</th>\n",
       "      <td>7. Schindler's List</td>\n",
       "      <td>1993</td>\n",
       "      <td>9.0</td>\n",
       "      <td>Docudrama, Epic, Historical Epic, Period Drama...</td>\n",
       "      <td>Steven Spielberg, Ben Kingsley, Mimi Thoma, St...</td>\n",
       "      <td>322161245</td>\n",
       "      <td>Liam Neeson, Ralph Fiennes, Ben Kingsley</td>\n",
       "      <td>1500000</td>\n",
       "    </tr>\n",
       "    <tr>\n",
       "      <th>7</th>\n",
       "      <td>8. Pulp Fiction</td>\n",
       "      <td>1994</td>\n",
       "      <td>8.9</td>\n",
       "      <td>Dark Comedy, Drug Crime, Gangster, Crime, Drama</td>\n",
       "      <td>Vincent, Quentin Tarantino, Samuel L. Jackson,...</td>\n",
       "      <td>213928762</td>\n",
       "      <td>Uma Thurman, Samuel L. Jackson, John Travolta</td>\n",
       "      <td>2300000</td>\n",
       "    </tr>\n",
       "    <tr>\n",
       "      <th>8</th>\n",
       "      <td>9. The Lord of the Rings: The Fellowship of th...</td>\n",
       "      <td>2001</td>\n",
       "      <td>8.9</td>\n",
       "      <td>Action Epic, Adventure Epic, Epic, Fantasy Epi...</td>\n",
       "      <td>Janet Roddick, Fran Walsh, Orlando Bloom, Gand...</td>\n",
       "      <td>888171906</td>\n",
       "      <td>Orlando Bloom, Ian McKellen, Elijah Wood</td>\n",
       "      <td>2100000</td>\n",
       "    </tr>\n",
       "    <tr>\n",
       "      <th>9</th>\n",
       "      <td>10. The Good, the Bad and the Ugly</td>\n",
       "      <td>1966</td>\n",
       "      <td>8.8</td>\n",
       "      <td>Adventure Epic, Dark Comedy, Desert Adventure,...</td>\n",
       "      <td>Blondie, Lee Van Cleef, Clint Eastwood, Lucian...</td>\n",
       "      <td>25264999</td>\n",
       "      <td>Eli Wallach, Lee Van Cleef, Clint Eastwood</td>\n",
       "      <td>847000</td>\n",
       "    </tr>\n",
       "  </tbody>\n",
       "</table>\n",
       "</div>"
      ],
      "text/plain": [
       "                                               title  year  rating  \\\n",
       "0                        1. The Shawshank Redemption  1994     9.3   \n",
       "1                                   2. The Godfather  1972     9.2   \n",
       "2                                 3. The Dark Knight  2008     9.0   \n",
       "3                           4. The Godfather Part II  1974     9.0   \n",
       "4                                    5. 12 Angry Men  1957     9.0   \n",
       "5   6. The Lord of the Rings: The Return of the King  2003     9.0   \n",
       "6                                7. Schindler's List  1993     9.0   \n",
       "7                                    8. Pulp Fiction  1994     8.9   \n",
       "8  9. The Lord of the Rings: The Fellowship of th...  2001     8.9   \n",
       "9                 10. The Good, the Bad and the Ugly  1966     8.8   \n",
       "\n",
       "                                               genre  \\\n",
       "0            Epic, Period Drama, Prison Drama, Drama   \n",
       "1              Epic, Gangster, Tragedy, Crime, Drama   \n",
       "2  Action Epic, Epic, Superhero, Tragedy, Action,...   \n",
       "3              Epic, Gangster, Tragedy, Crime, Drama   \n",
       "4     Legal Drama, Psychological Drama, Crime, Drama   \n",
       "5  Action Epic, Adventure Epic, Epic, Fantasy Epi...   \n",
       "6  Docudrama, Epic, Historical Epic, Period Drama...   \n",
       "7    Dark Comedy, Drug Crime, Gangster, Crime, Drama   \n",
       "8  Action Epic, Adventure Epic, Epic, Fantasy Epi...   \n",
       "9  Adventure Epic, Dark Comedy, Desert Adventure,...   \n",
       "\n",
       "                                           directors     revenue  \\\n",
       "0  Jack Lawrence, Frank Darabont, Bob Gunton, Han...    29332133   \n",
       "1  Marlon Brando, Kay Adams, Al Pacino, Francis F...   250342198   \n",
       "2  Aaron Eckhart, Christopher Nolan, Jack Nichols...  1009057329   \n",
       "3  Al Pacino, Robert Duvall, Robert De Niro, Fran...    47964222   \n",
       "4  Martin Balsam, E.G. Marshall, Juror #10, Lee J...        2945   \n",
       "5  John Rhys-Davies, Fran Walsh, J.R.R. Tolkien, ...  1138267561   \n",
       "6  Steven Spielberg, Ben Kingsley, Mimi Thoma, St...   322161245   \n",
       "7  Vincent, Quentin Tarantino, Samuel L. Jackson,...   213928762   \n",
       "8  Janet Roddick, Fran Walsh, Orlando Bloom, Gand...   888171906   \n",
       "9  Blondie, Lee Van Cleef, Clint Eastwood, Lucian...    25264999   \n",
       "\n",
       "                                     lead_actors    votes  \n",
       "0        Bob Gunton, Tim Robbins, Morgan Freeman  3000000  \n",
       "1           James Caan, Marlon Brando, Al Pacino  2100000  \n",
       "2    Aaron Eckhart, Heath Ledger, Christian Bale  3000000  \n",
       "3       Robert Duvall, Robert De Niro, Al Pacino  1400000  \n",
       "4        Lee J. Cobb, Martin Balsam, Henry Fonda   917000  \n",
       "5     Viggo Mortensen, Ian McKellen, Elijah Wood  2100000  \n",
       "6       Liam Neeson, Ralph Fiennes, Ben Kingsley  1500000  \n",
       "7  Uma Thurman, Samuel L. Jackson, John Travolta  2300000  \n",
       "8       Orlando Bloom, Ian McKellen, Elijah Wood  2100000  \n",
       "9     Eli Wallach, Lee Van Cleef, Clint Eastwood   847000  "
      ]
     },
     "execution_count": 89,
     "metadata": {},
     "output_type": "execute_result"
    }
   ],
   "source": [
    "movies_df.head(10)"
   ]
  },
  {
   "cell_type": "code",
   "execution_count": 90,
   "metadata": {},
   "outputs": [
    {
     "data": {
      "text/plain": [
       "title           object\n",
       "year             int64\n",
       "rating         float64\n",
       "genre           object\n",
       "directors       object\n",
       "revenue          int64\n",
       "lead_actors     object\n",
       "votes            int64\n",
       "dtype: object"
      ]
     },
     "execution_count": 90,
     "metadata": {},
     "output_type": "execute_result"
    }
   ],
   "source": [
    "movies_df.dtypes"
   ]
  },
  {
   "cell_type": "code",
   "execution_count": 91,
   "metadata": {},
   "outputs": [],
   "source": [
    "# Save the cleaned data to a new CSV file\n",
    "cleaned_file_path = \"../data/imdb_top_movies_cleaned.csv\"\n",
    "movies_df.to_csv(cleaned_file_path, index=False)"
   ]
  },
  {
   "cell_type": "code",
   "execution_count": 92,
   "metadata": {},
   "outputs": [
    {
     "data": {
      "text/html": [
       "<div>\n",
       "<style scoped>\n",
       "    .dataframe tbody tr th:only-of-type {\n",
       "        vertical-align: middle;\n",
       "    }\n",
       "\n",
       "    .dataframe tbody tr th {\n",
       "        vertical-align: top;\n",
       "    }\n",
       "\n",
       "    .dataframe thead th {\n",
       "        text-align: right;\n",
       "    }\n",
       "</style>\n",
       "<table border=\"1\" class=\"dataframe\">\n",
       "  <thead>\n",
       "    <tr style=\"text-align: right;\">\n",
       "      <th></th>\n",
       "      <th>title</th>\n",
       "      <th>year</th>\n",
       "      <th>rating</th>\n",
       "      <th>genre</th>\n",
       "      <th>directors</th>\n",
       "      <th>revenue</th>\n",
       "      <th>lead_actors</th>\n",
       "      <th>votes</th>\n",
       "    </tr>\n",
       "  </thead>\n",
       "  <tbody>\n",
       "    <tr>\n",
       "      <th>0</th>\n",
       "      <td>1. The Shawshank Redemption</td>\n",
       "      <td>1994</td>\n",
       "      <td>9.3</td>\n",
       "      <td>Epic, Period Drama, Prison Drama, Drama</td>\n",
       "      <td>Jack Lawrence, Frank Darabont, Bob Gunton, Han...</td>\n",
       "      <td>29332133</td>\n",
       "      <td>Bob Gunton, Tim Robbins, Morgan Freeman</td>\n",
       "      <td>3000000</td>\n",
       "    </tr>\n",
       "    <tr>\n",
       "      <th>1</th>\n",
       "      <td>2. The Godfather</td>\n",
       "      <td>1972</td>\n",
       "      <td>9.2</td>\n",
       "      <td>Epic, Gangster, Tragedy, Crime, Drama</td>\n",
       "      <td>Marlon Brando, Kay Adams, Al Pacino, Francis F...</td>\n",
       "      <td>250342198</td>\n",
       "      <td>James Caan, Marlon Brando, Al Pacino</td>\n",
       "      <td>2100000</td>\n",
       "    </tr>\n",
       "    <tr>\n",
       "      <th>2</th>\n",
       "      <td>3. The Dark Knight</td>\n",
       "      <td>2008</td>\n",
       "      <td>9.0</td>\n",
       "      <td>Action Epic, Epic, Superhero, Tragedy, Action,...</td>\n",
       "      <td>Aaron Eckhart, Christopher Nolan, Jack Nichols...</td>\n",
       "      <td>1009057329</td>\n",
       "      <td>Aaron Eckhart, Heath Ledger, Christian Bale</td>\n",
       "      <td>3000000</td>\n",
       "    </tr>\n",
       "    <tr>\n",
       "      <th>3</th>\n",
       "      <td>4. The Godfather Part II</td>\n",
       "      <td>1974</td>\n",
       "      <td>9.0</td>\n",
       "      <td>Epic, Gangster, Tragedy, Crime, Drama</td>\n",
       "      <td>Al Pacino, Robert Duvall, Robert De Niro, Fran...</td>\n",
       "      <td>47964222</td>\n",
       "      <td>Robert Duvall, Robert De Niro, Al Pacino</td>\n",
       "      <td>1400000</td>\n",
       "    </tr>\n",
       "    <tr>\n",
       "      <th>4</th>\n",
       "      <td>5. 12 Angry Men</td>\n",
       "      <td>1957</td>\n",
       "      <td>9.0</td>\n",
       "      <td>Legal Drama, Psychological Drama, Crime, Drama</td>\n",
       "      <td>Martin Balsam, E.G. Marshall, Juror #10, Lee J...</td>\n",
       "      <td>2945</td>\n",
       "      <td>Lee J. Cobb, Martin Balsam, Henry Fonda</td>\n",
       "      <td>917000</td>\n",
       "    </tr>\n",
       "  </tbody>\n",
       "</table>\n",
       "</div>"
      ],
      "text/plain": [
       "                         title  year  rating  \\\n",
       "0  1. The Shawshank Redemption  1994     9.3   \n",
       "1             2. The Godfather  1972     9.2   \n",
       "2           3. The Dark Knight  2008     9.0   \n",
       "3     4. The Godfather Part II  1974     9.0   \n",
       "4              5. 12 Angry Men  1957     9.0   \n",
       "\n",
       "                                               genre  \\\n",
       "0            Epic, Period Drama, Prison Drama, Drama   \n",
       "1              Epic, Gangster, Tragedy, Crime, Drama   \n",
       "2  Action Epic, Epic, Superhero, Tragedy, Action,...   \n",
       "3              Epic, Gangster, Tragedy, Crime, Drama   \n",
       "4     Legal Drama, Psychological Drama, Crime, Drama   \n",
       "\n",
       "                                           directors     revenue  \\\n",
       "0  Jack Lawrence, Frank Darabont, Bob Gunton, Han...    29332133   \n",
       "1  Marlon Brando, Kay Adams, Al Pacino, Francis F...   250342198   \n",
       "2  Aaron Eckhart, Christopher Nolan, Jack Nichols...  1009057329   \n",
       "3  Al Pacino, Robert Duvall, Robert De Niro, Fran...    47964222   \n",
       "4  Martin Balsam, E.G. Marshall, Juror #10, Lee J...        2945   \n",
       "\n",
       "                                   lead_actors    votes  \n",
       "0      Bob Gunton, Tim Robbins, Morgan Freeman  3000000  \n",
       "1         James Caan, Marlon Brando, Al Pacino  2100000  \n",
       "2  Aaron Eckhart, Heath Ledger, Christian Bale  3000000  \n",
       "3     Robert Duvall, Robert De Niro, Al Pacino  1400000  \n",
       "4      Lee J. Cobb, Martin Balsam, Henry Fonda   917000  "
      ]
     },
     "execution_count": 92,
     "metadata": {},
     "output_type": "execute_result"
    }
   ],
   "source": [
    "# Define the file path\n",
    "file_path = \"../data/imdb_top_movies_cleaned.csv\"\n",
    "# Read the CSV file into a DataFrame\n",
    "movies_cleaned_df = pd.read_csv(file_path)  \n",
    "movies_cleaned_df.head()"
   ]
  },
  {
   "cell_type": "markdown",
   "metadata": {},
   "source": [
    "### 2. Statistical Analysis"
   ]
  },
  {
   "cell_type": "markdown",
   "metadata": {},
   "source": [
    "#### * Perform statistical analysis on the key attributes of movies. "
   ]
  },
  {
   "cell_type": "code",
   "execution_count": null,
   "metadata": {},
   "outputs": [
    {
     "data": {
      "text/html": [
       "<div>\n",
       "<style scoped>\n",
       "    .dataframe tbody tr th:only-of-type {\n",
       "        vertical-align: middle;\n",
       "    }\n",
       "\n",
       "    .dataframe tbody tr th {\n",
       "        vertical-align: top;\n",
       "    }\n",
       "\n",
       "    .dataframe thead th {\n",
       "        text-align: right;\n",
       "    }\n",
       "</style>\n",
       "<table border=\"1\" class=\"dataframe\">\n",
       "  <thead>\n",
       "    <tr style=\"text-align: right;\">\n",
       "      <th></th>\n",
       "      <th>title</th>\n",
       "      <th>year</th>\n",
       "      <th>rating</th>\n",
       "      <th>genre</th>\n",
       "      <th>directors</th>\n",
       "      <th>revenue</th>\n",
       "      <th>lead_actors</th>\n",
       "      <th>votes</th>\n",
       "    </tr>\n",
       "  </thead>\n",
       "  <tbody>\n",
       "    <tr>\n",
       "      <th>0</th>\n",
       "      <td>1. The Shawshank Redemption</td>\n",
       "      <td>1994</td>\n",
       "      <td>9.3</td>\n",
       "      <td>Epic, Period Drama, Prison Drama, Drama</td>\n",
       "      <td>Jack Lawrence, Frank Darabont, Bob Gunton, Han...</td>\n",
       "      <td>29332133</td>\n",
       "      <td>Bob Gunton, Tim Robbins, Morgan Freeman</td>\n",
       "      <td>3000000</td>\n",
       "    </tr>\n",
       "    <tr>\n",
       "      <th>1</th>\n",
       "      <td>2. The Godfather</td>\n",
       "      <td>1972</td>\n",
       "      <td>9.2</td>\n",
       "      <td>Epic, Gangster, Tragedy, Crime, Drama</td>\n",
       "      <td>Marlon Brando, Kay Adams, Al Pacino, Francis F...</td>\n",
       "      <td>250342198</td>\n",
       "      <td>James Caan, Marlon Brando, Al Pacino</td>\n",
       "      <td>2100000</td>\n",
       "    </tr>\n",
       "    <tr>\n",
       "      <th>2</th>\n",
       "      <td>3. The Dark Knight</td>\n",
       "      <td>2008</td>\n",
       "      <td>9.0</td>\n",
       "      <td>Action Epic, Epic, Superhero, Tragedy, Action,...</td>\n",
       "      <td>Aaron Eckhart, Christopher Nolan, Jack Nichols...</td>\n",
       "      <td>1009057329</td>\n",
       "      <td>Aaron Eckhart, Heath Ledger, Christian Bale</td>\n",
       "      <td>3000000</td>\n",
       "    </tr>\n",
       "    <tr>\n",
       "      <th>3</th>\n",
       "      <td>4. The Godfather Part II</td>\n",
       "      <td>1974</td>\n",
       "      <td>9.0</td>\n",
       "      <td>Epic, Gangster, Tragedy, Crime, Drama</td>\n",
       "      <td>Al Pacino, Robert Duvall, Robert De Niro, Fran...</td>\n",
       "      <td>47964222</td>\n",
       "      <td>Robert Duvall, Robert De Niro, Al Pacino</td>\n",
       "      <td>1400000</td>\n",
       "    </tr>\n",
       "    <tr>\n",
       "      <th>4</th>\n",
       "      <td>5. 12 Angry Men</td>\n",
       "      <td>1957</td>\n",
       "      <td>9.0</td>\n",
       "      <td>Legal Drama, Psychological Drama, Crime, Drama</td>\n",
       "      <td>Martin Balsam, E.G. Marshall, Juror #10, Lee J...</td>\n",
       "      <td>2945</td>\n",
       "      <td>Lee J. Cobb, Martin Balsam, Henry Fonda</td>\n",
       "      <td>917000</td>\n",
       "    </tr>\n",
       "  </tbody>\n",
       "</table>\n",
       "</div>"
      ],
      "text/plain": [
       "                         title  year  rating  \\\n",
       "0  1. The Shawshank Redemption  1994     9.3   \n",
       "1             2. The Godfather  1972     9.2   \n",
       "2           3. The Dark Knight  2008     9.0   \n",
       "3     4. The Godfather Part II  1974     9.0   \n",
       "4              5. 12 Angry Men  1957     9.0   \n",
       "\n",
       "                                               genre  \\\n",
       "0            Epic, Period Drama, Prison Drama, Drama   \n",
       "1              Epic, Gangster, Tragedy, Crime, Drama   \n",
       "2  Action Epic, Epic, Superhero, Tragedy, Action,...   \n",
       "3              Epic, Gangster, Tragedy, Crime, Drama   \n",
       "4     Legal Drama, Psychological Drama, Crime, Drama   \n",
       "\n",
       "                                           directors     revenue  \\\n",
       "0  Jack Lawrence, Frank Darabont, Bob Gunton, Han...    29332133   \n",
       "1  Marlon Brando, Kay Adams, Al Pacino, Francis F...   250342198   \n",
       "2  Aaron Eckhart, Christopher Nolan, Jack Nichols...  1009057329   \n",
       "3  Al Pacino, Robert Duvall, Robert De Niro, Fran...    47964222   \n",
       "4  Martin Balsam, E.G. Marshall, Juror #10, Lee J...        2945   \n",
       "\n",
       "                                   lead_actors    votes  \n",
       "0      Bob Gunton, Tim Robbins, Morgan Freeman  3000000  \n",
       "1         James Caan, Marlon Brando, Al Pacino  2100000  \n",
       "2  Aaron Eckhart, Heath Ledger, Christian Bale  3000000  \n",
       "3     Robert Duvall, Robert De Niro, Al Pacino  1400000  \n",
       "4      Lee J. Cobb, Martin Balsam, Henry Fonda   917000  "
      ]
     },
     "execution_count": 99,
     "metadata": {},
     "output_type": "execute_result"
    }
   ],
   "source": [
    "# Check for data header\n",
    "movies_cleaned_df.head()"
   ]
  },
  {
   "cell_type": "code",
   "execution_count": null,
   "metadata": {},
   "outputs": [
    {
     "data": {
      "text/plain": [
       "(250, 8)"
      ]
     },
     "execution_count": 101,
     "metadata": {},
     "output_type": "execute_result"
    }
   ],
   "source": [
    "# Check the shape of the dataset\n",
    "movies_cleaned_df.shape"
   ]
  },
  {
   "cell_type": "code",
   "execution_count": 102,
   "metadata": {},
   "outputs": [
    {
     "data": {
      "text/plain": [
       "title          0\n",
       "year           0\n",
       "rating         0\n",
       "genre          0\n",
       "directors      0\n",
       "revenue        0\n",
       "lead_actors    0\n",
       "votes          0\n",
       "dtype: int64"
      ]
     },
     "execution_count": 102,
     "metadata": {},
     "output_type": "execute_result"
    }
   ],
   "source": [
    "# Check null values\n",
    "movies_cleaned_df.isnull().sum()"
   ]
  },
  {
   "cell_type": "code",
   "execution_count": 103,
   "metadata": {},
   "outputs": [
    {
     "data": {
      "text/plain": [
       "np.int64(0)"
      ]
     },
     "execution_count": 103,
     "metadata": {},
     "output_type": "execute_result"
    }
   ],
   "source": [
    "# Check for duplicates\n",
    "movies_cleaned_df.duplicated().sum()"
   ]
  },
  {
   "cell_type": "code",
   "execution_count": 115,
   "metadata": {},
   "outputs": [
    {
     "name": "stdout",
     "output_type": "stream",
     "text": [
      "             title  year  rating  \\\n",
      "127  128. Hamilton  2020     8.3   \n",
      "163     164. Klaus  2019     8.2   \n",
      "222  223. Jai Bhim  2021     8.7   \n",
      "249  250. Drishyam  2015     8.2   \n",
      "\n",
      "                                                 genre  \\\n",
      "127           Epic, Biography, Drama, History, Musical   \n",
      "163  Hand-Drawn Animation, Holiday Animation, Holid...   \n",
      "222                          Legal Drama, Crime, Drama   \n",
      "249                    Crime, Drama, Mystery, Thriller   \n",
      "\n",
      "                                             directors  revenue  \\\n",
      "127  Thomas Kail, King George, Anthony Ramos, Lesli...        0   \n",
      "163  J.K. Simmons, Justin Tranter, Jason Schwartzma...        0   \n",
      "222  Suriya, T.J. Gnanavel, Manikandan K., Rajendra...        0   \n",
      "249  Meera Deshmukh, Nishikant Kamat, Meghna Gulzar...        0   \n",
      "\n",
      "                                           lead_actors   votes  \n",
      "127  Leslie Odom Jr., Lin-Manuel Miranda, Phillipa Soo  126000  \n",
      "163     J.K. Simmons, Jason Schwartzman, Rashida Jones  212000  \n",
      "222               Suriya, Manikandan K., Lijo Mol Jose  224000  \n",
      "249                     Shriya Saran, Ajay Devgn, Tabu  100000  \n"
     ]
    }
   ],
   "source": [
    "# Filter rows where revenue is zero\n",
    "zero_revenue_rows = movies_cleaned_df[movies_cleaned_df['revenue'] == 0]\n",
    "\n",
    "# Print the rows\n",
    "print(zero_revenue_rows)"
   ]
  },
  {
   "cell_type": "markdown",
   "metadata": {},
   "source": []
  },
  {
   "cell_type": "code",
   "execution_count": 120,
   "metadata": {},
   "outputs": [
    {
     "name": "stdout",
     "output_type": "stream",
     "text": [
      "Empty DataFrame\n",
      "Columns: [title, year, rating, genre, directors, revenue, lead_actors, votes]\n",
      "Index: []\n"
     ]
    }
   ],
   "source": [
    "# Findings from the internet to validate the actual data\n",
    "## The \"Hamilton\" musical, including the Broadway production, touring shows, merchandise, soundtrack, and the Disney+ streaming rights, has grossed over $1 billion globally, making it a highly successful and profitable production. \n",
    "## The animated Christmas movie \"Klaus\" had a budget of $40 million and was produced by The SPA Studios and distributed by Netflix. \n",
    "## Jai Bhim did not open in theatres so there are no box office numbers to support its popularity.\n",
    "## Drishyam - It attained a total gross of ₹91.97 crore (US$11 million) (India) in the Indian box office by the end of its run. Internationally, the film collected ₹155 million (US$1.8 million) in seven weeks and reached a combined worldwide total gross of ₹1.1 billion (US$13 million)\n",
    "\n",
    "movies_cleaned_df.loc[movies_cleaned_df['title'].str.contains('Hamilton'), 'revenue'] = 1000000000  # $1 billion\n",
    "movies_cleaned_df.loc[movies_cleaned_df['title'].str.contains('Klaus'), 'revenue'] = 40000000  # $40 million\n",
    "movies_cleaned_df.loc[movies_cleaned_df['title'].str.contains('Drishyam'), 'revenue'] = 1100000000  # $1.1 billion\n",
    "\n",
    "# Due to the nature of the data, we will remove the Jai Bhim movie from the dataset for analysis\n",
    "# Remove movie with the title \"Jai Bhim\"\n",
    "movies_cleaned_df = movies_cleaned_df[~movies_cleaned_df['title'].str.contains('Jai Bhim')]\n",
    "\n",
    "# Verify the updates\n",
    "# Filter rows where revenue is zero\n",
    "zero_revenue_rows = movies_cleaned_df[movies_cleaned_df['revenue'] == 0]\n",
    "\n",
    "# Print the rows\n",
    "print(zero_revenue_rows)\n"
   ]
  },
  {
   "cell_type": "code",
   "execution_count": 121,
   "metadata": {},
   "outputs": [
    {
     "data": {
      "text/html": [
       "<div>\n",
       "<style scoped>\n",
       "    .dataframe tbody tr th:only-of-type {\n",
       "        vertical-align: middle;\n",
       "    }\n",
       "\n",
       "    .dataframe tbody tr th {\n",
       "        vertical-align: top;\n",
       "    }\n",
       "\n",
       "    .dataframe thead th {\n",
       "        text-align: right;\n",
       "    }\n",
       "</style>\n",
       "<table border=\"1\" class=\"dataframe\">\n",
       "  <thead>\n",
       "    <tr style=\"text-align: right;\">\n",
       "      <th></th>\n",
       "      <th>year</th>\n",
       "      <th>rating</th>\n",
       "      <th>revenue</th>\n",
       "      <th>votes</th>\n",
       "    </tr>\n",
       "  </thead>\n",
       "  <tbody>\n",
       "    <tr>\n",
       "      <th>count</th>\n",
       "      <td>246.000000</td>\n",
       "      <td>246.000000</td>\n",
       "      <td>2.460000e+02</td>\n",
       "      <td>2.460000e+02</td>\n",
       "    </tr>\n",
       "    <tr>\n",
       "      <th>mean</th>\n",
       "      <td>1987.939024</td>\n",
       "      <td>8.309350</td>\n",
       "      <td>2.297078e+08</td>\n",
       "      <td>7.362967e+05</td>\n",
       "    </tr>\n",
       "    <tr>\n",
       "      <th>std</th>\n",
       "      <td>25.510469</td>\n",
       "      <td>0.232717</td>\n",
       "      <td>3.710661e+08</td>\n",
       "      <td>5.874523e+05</td>\n",
       "    </tr>\n",
       "    <tr>\n",
       "      <th>min</th>\n",
       "      <td>1921.000000</td>\n",
       "      <td>8.000000</td>\n",
       "      <td>3.990000e+02</td>\n",
       "      <td>3.100000e+04</td>\n",
       "    </tr>\n",
       "    <tr>\n",
       "      <th>25%</th>\n",
       "      <td>1971.250000</td>\n",
       "      <td>8.100000</td>\n",
       "      <td>7.535690e+06</td>\n",
       "      <td>2.512500e+05</td>\n",
       "    </tr>\n",
       "    <tr>\n",
       "      <th>50%</th>\n",
       "      <td>1995.000000</td>\n",
       "      <td>8.200000</td>\n",
       "      <td>6.251449e+07</td>\n",
       "      <td>6.275000e+05</td>\n",
       "    </tr>\n",
       "    <tr>\n",
       "      <th>75%</th>\n",
       "      <td>2008.000000</td>\n",
       "      <td>8.400000</td>\n",
       "      <td>3.216797e+08</td>\n",
       "      <td>1.100000e+06</td>\n",
       "    </tr>\n",
       "    <tr>\n",
       "      <th>max</th>\n",
       "      <td>2024.000000</td>\n",
       "      <td>9.300000</td>\n",
       "      <td>2.799439e+09</td>\n",
       "      <td>3.000000e+06</td>\n",
       "    </tr>\n",
       "  </tbody>\n",
       "</table>\n",
       "</div>"
      ],
      "text/plain": [
       "              year      rating       revenue         votes\n",
       "count   246.000000  246.000000  2.460000e+02  2.460000e+02\n",
       "mean   1987.939024    8.309350  2.297078e+08  7.362967e+05\n",
       "std      25.510469    0.232717  3.710661e+08  5.874523e+05\n",
       "min    1921.000000    8.000000  3.990000e+02  3.100000e+04\n",
       "25%    1971.250000    8.100000  7.535690e+06  2.512500e+05\n",
       "50%    1995.000000    8.200000  6.251449e+07  6.275000e+05\n",
       "75%    2008.000000    8.400000  3.216797e+08  1.100000e+06\n",
       "max    2024.000000    9.300000  2.799439e+09  3.000000e+06"
      ]
     },
     "execution_count": 121,
     "metadata": {},
     "output_type": "execute_result"
    }
   ],
   "source": [
    "# Perform statistical analysis on the key attributes of movies. \n",
    "movies_cleaned_df.describe()"
   ]
  },
  {
   "cell_type": "markdown",
   "metadata": {},
   "source": [
    "#### • Calculate descriptive statistics, such as mean, median, and standard deviation, to gain deeper insights into the distribution of revenue, ratings, and movie release years."
   ]
  },
  {
   "cell_type": "code",
   "execution_count": 122,
   "metadata": {},
   "outputs": [
    {
     "name": "stdout",
     "output_type": "stream",
     "text": [
      "Rating: mean = 8.31, median = 8.20, std = 0.23\n",
      "Revenue: mean = 229707813.30, median = 62514489.00, std = 371066078.43\n",
      "Votes: mean = 736296.75, median = 627500.00, std = 587452.30\n"
     ]
    }
   ],
   "source": [
    "# Specifically, we will calculate the mean, median, and standard deviation of the rating, revenue, and votes columns.\n",
    "# Calculate the mean, median, and standard deviation of the rating, revenue, and votes columns\n",
    "mean_rating = movies_cleaned_df['rating'].mean()\n",
    "median_rating = movies_cleaned_df['rating'].median()\n",
    "std_rating = movies_cleaned_df['rating'].std()\n",
    "\n",
    "mean_revenue = movies_cleaned_df['revenue'].mean()  # in dollars\n",
    "median_revenue = movies_cleaned_df['revenue'].median()  # in dollars\n",
    "std_revenue = movies_cleaned_df['revenue'].std()  # in dollars\n",
    "\n",
    "mean_votes = movies_cleaned_df['votes'].mean()\n",
    "median_votes = movies_cleaned_df['votes'].median()\n",
    "std_votes = movies_cleaned_df['votes'].std()    \n",
    "\n",
    "# Display the statistical results\n",
    "print(\"Rating: mean = {:.2f}, median = {:.2f}, std = {:.2f}\".format(mean_rating, median_rating, std_rating))\n",
    "print(\"Revenue: mean = {:.2f}, median = {:.2f}, std = {:.2f}\".format(mean_revenue, median_revenue, std_revenue))\n",
    "print(\"Votes: mean = {:.2f}, median = {:.2f}, std = {:.2f}\".format(mean_votes, median_votes, std_votes))"
   ]
  },
  {
   "cell_type": "code",
   "execution_count": 106,
   "metadata": {},
   "outputs": [
    {
     "data": {
      "image/png": "[encoded data removed]",
      "text/plain": [
       "<Figure size 1000x600 with 1 Axes>"
      ]
     },
     "metadata": {},
     "output_type": "display_data"
    }
   ],
   "source": [
    "movies_cleaned_df['revenue'] = pd.to_numeric(movies_cleaned_df['revenue'], errors='coerce')\n",
    "\n",
    "# Plot the distribution of revenue\n",
    "plt.figure(figsize=(10, 6))\n",
    "sns.histplot(movies_cleaned_df['revenue'].dropna(), bins=30, kde=True, color='skyblue')\n",
    "plt.title('Distribution of Revenue')\n",
    "plt.xlabel('Revenue')\n",
    "plt.ylabel('Frequency')\n",
    "plt.show()"
   ]
  },
  {
   "cell_type": "code",
   "execution_count": 128,
   "metadata": {
    "vscode": {
     "languageId": "markdown"
    }
   },
   "outputs": [],
   "source": [
    "### Findings from the Distribution of Revenue\n",
    "\n",
    "# 1. The distribution of revenue appears to be highly skewed, with a majority of movies earning significantly lower revenue compared to a few high-grossing movies.\n",
    "# 2. There are noticeable outliers in the data, representing blockbuster movies with exceptionally high revenue.\n",
    "# 3. The majority of movies fall within a lower revenue range, indicating that high revenue is not common across all movies.\n",
    "# 4. The presence of a long tail in the distribution suggests that revenue varies widely among movies, with a small number of movies contributing disproportionately to the total revenue."
   ]
  },
  {
   "cell_type": "code",
   "execution_count": 123,
   "metadata": {},
   "outputs": [
    {
     "data": {
      "image/png": "[encoded data removed]",
      "text/plain": [
       "<Figure size 1000x600 with 1 Axes>"
      ]
     },
     "metadata": {},
     "output_type": "display_data"
    }
   ],
   "source": [
    "movies_cleaned_df['rating'] = pd.to_numeric(movies_cleaned_df['rating'], errors='coerce')\n",
    "\n",
    "# Plot the distribution of revenue\n",
    "plt.figure(figsize=(10, 6))\n",
    "sns.histplot(movies_cleaned_df['rating'].dropna(), bins=30, kde=True, color='skyblue')\n",
    "plt.title('Distribution of Rating')\n",
    "plt.xlabel('Rating')\n",
    "plt.ylabel('Frequency')\n",
    "plt.show()"
   ]
  },
  {
   "cell_type": "code",
   "execution_count": 126,
   "metadata": {
    "vscode": {
     "languageId": "markdown"
    }
   },
   "outputs": [],
   "source": [
    "# The key findings from the distribution of ratings are:\n",
    "\n",
    "# 1. **Normal Distribution**: The ratings appear to follow a relatively normal distribution, with most movies clustered around a central value.\n",
    "# 2. **High Ratings**: The majority of movies have high ratings, indicating that the dataset primarily consists of well-rated movies.\n",
    "# 3. **Narrow Range**: The range of ratings is narrow, typically between 8.0 and 9.5, suggesting that the dataset focuses on top-rated movies.\n",
    "# 4. **Few Outliers**: There are few outliers with exceptionally high or low ratings, indicating consistency in the quality of movies in the dataset."
   ]
  },
  {
   "cell_type": "code",
   "execution_count": 108,
   "metadata": {},
   "outputs": [
    {
     "data": {
      "image/png": "[encoded data removed]",
      "text/plain": [
       "<Figure size 1000x600 with 1 Axes>"
      ]
     },
     "metadata": {},
     "output_type": "display_data"
    }
   ],
   "source": [
    "# Plot the distribution of movie release years\n",
    "plt.figure(figsize=(10, 6))\n",
    "sns.histplot(movies_cleaned_df['year'].dropna(), bins=30, kde=True, color='lightcoral')\n",
    "plt.title('Distribution of Movie Release Years')\n",
    "plt.xlabel('Year')\n",
    "plt.ylabel('Frequency')\n",
    "plt.show()"
   ]
  },
  {
   "cell_type": "code",
   "execution_count": 110,
   "metadata": {},
   "outputs": [
    {
     "name": "stderr",
     "output_type": "stream",
     "text": [
      "/var/folders/0p/29y5gpjs09jd6rt_9jltqj7w0000gn/T/ipykernel_68018/3572212892.py:4: FutureWarning: \n",
      "\n",
      "The `ci` parameter is deprecated. Use `errorbar=None` for the same effect.\n",
      "\n",
      "  sns.lineplot(data=movies_cleaned_df, x='year', y='revenue', ci=None)\n"
     ]
    },
    {
     "data": {
      "image/png": "[encoded data removed]",
      "text/plain": [
       "<Figure size 1200x600 with 1 Axes>"
      ]
     },
     "metadata": {},
     "output_type": "display_data"
    }
   ],
   "source": [
    "# Investigate Trends and Outliers\n",
    "# Plot the trend of revenue over time\n",
    "plt.figure(figsize=(12, 6))\n",
    "sns.lineplot(data=movies_cleaned_df, x='year', y='revenue', ci=None)\n",
    "plt.title('Trend of Revenue Over Time')\n",
    "plt.xlabel('Year')\n",
    "plt.ylabel('Revenue')\n",
    "plt.show()"
   ]
  },
  {
   "cell_type": "code",
   "execution_count": 112,
   "metadata": {},
   "outputs": [
    {
     "name": "stderr",
     "output_type": "stream",
     "text": [
      "/var/folders/0p/29y5gpjs09jd6rt_9jltqj7w0000gn/T/ipykernel_68018/630383434.py:3: FutureWarning: \n",
      "\n",
      "The `ci` parameter is deprecated. Use `errorbar=None` for the same effect.\n",
      "\n",
      "  sns.lineplot(data=movies_cleaned_df, x='year', y='rating', ci=None)\n"
     ]
    },
    {
     "data": {
      "image/png": "[encoded data removed]",
      "text/plain": [
       "<Figure size 1200x600 with 1 Axes>"
      ]
     },
     "metadata": {},
     "output_type": "display_data"
    }
   ],
   "source": [
    "# Plot the trend of ratings over time\n",
    "plt.figure(figsize=(12, 6))\n",
    "sns.lineplot(data=movies_cleaned_df, x='year', y='rating', ci=None)\n",
    "plt.title('Trend of Ratings Over Time')\n",
    "plt.xlabel('Year')\n",
    "plt.ylabel('Rating')\n",
    "plt.show()"
   ]
  },
  {
   "cell_type": "code",
   "execution_count": 113,
   "metadata": {},
   "outputs": [
    {
     "data": {
      "image/png": "[encoded data removed]",
      "text/plain": [
       "<Figure size 1200x600 with 1 Axes>"
      ]
     },
     "metadata": {},
     "output_type": "display_data"
    }
   ],
   "source": [
    "# Scatter plot for revenue vs. ratings\n",
    "plt.figure(figsize=(12, 6))\n",
    "sns.scatterplot(data=movies_cleaned_df, x='rating', y='revenue')\n",
    "plt.title('Revenue vs. Ratings')\n",
    "plt.xlabel('Rating')\n",
    "plt.ylabel('Revenue')\n",
    "plt.show()"
   ]
  },
  {
   "cell_type": "code",
   "execution_count": 114,
   "metadata": {},
   "outputs": [
    {
     "data": {
      "image/png": "[encoded data removed]",
      "text/plain": [
       "<Figure size 1200x600 with 1 Axes>"
      ]
     },
     "metadata": {},
     "output_type": "display_data"
    }
   ],
   "source": [
    "# Box plot for revenue by year\n",
    "plt.figure(figsize=(12, 6))\n",
    "sns.boxplot(data=movies_cleaned_df, x='year', y='revenue')\n",
    "plt.title('Box Plot of Revenue by Year')\n",
    "plt.xlabel('Year')\n",
    "plt.ylabel('Revenue')\n",
    "plt.xticks(rotation=90)\n",
    "plt.show()"
   ]
  },
  {
   "cell_type": "code",
   "execution_count": null,
   "metadata": {},
   "outputs": [],
   "source": []
  }
 ],
 "metadata": {
  "kernelspec": {
   "display_name": ".venv",
   "language": "python",
   "name": "python3"
  },
  "language_info": {
   "codemirror_mode": {
    "name": "ipython",
    "version": 3
   },
   "file_extension": ".py",
   "mimetype": "text/x-python",
   "name": "python",
   "nbconvert_exporter": "python",
   "pygments_lexer": "ipython3",
   "version": "3.12.4"
  }
 },
 "nbformat": 4,
 "nbformat_minor": 2
}
